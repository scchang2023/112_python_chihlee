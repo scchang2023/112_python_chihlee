{
 "cells": [
  {
   "cell_type": "code",
   "execution_count": 21,
   "metadata": {},
   "outputs": [
    {
     "name": "stdout",
     "output_type": "stream",
     "text": [
      "<class 'str'>\n",
      "<class 'dict'>\n"
     ]
    }
   ],
   "source": [
    "import json\n",
    "with open('F-C0032-001.json', encoding='utf-8') as file:\n",
    "    json_str = file.read()\n",
    "    print(type(json_str))\n",
    "    weather = json.loads(json_str)\n",
    "print(type(weather))\n",
    "\n",
    "\n"
   ]
  },
  {
   "cell_type": "code",
   "execution_count": 22,
   "metadata": {},
   "outputs": [
    {
     "data": {
      "text/plain": [
       "[{'城市': '臺北市'},\n",
       " {'城市': '新北市'},\n",
       " {'城市': '桃園市'},\n",
       " {'城市': '臺中市'},\n",
       " {'城市': '臺南市'},\n",
       " {'城市': '高雄市'},\n",
       " {'城市': '基隆市'},\n",
       " {'城市': '新竹縣'},\n",
       " {'城市': '新竹市'},\n",
       " {'城市': '苗栗縣'},\n",
       " {'城市': '彰化縣'},\n",
       " {'城市': '南投縣'},\n",
       " {'城市': '雲林縣'},\n",
       " {'城市': '嘉義縣'},\n",
       " {'城市': '嘉義市'},\n",
       " {'城市': '屏東縣'},\n",
       " {'城市': '宜蘭縣'},\n",
       " {'城市': '花蓮縣'},\n",
       " {'城市': '臺東縣'},\n",
       " {'城市': '澎湖縣'},\n",
       " {'城市': '金門縣'},\n",
       " {'城市': '連江縣'}]"
      ]
     },
     "execution_count": 22,
     "metadata": {},
     "output_type": "execute_result"
    }
   ],
   "source": [
    "location = weather['cwbopendata']['dataset']['location']\n",
    "weather_list = []\n",
    "for item in location:\n",
    "    city_item={}\n",
    "    city_item['城市']=item['locationName']\n",
    "    weather_list.append(city_item)\n",
    "weather_list"
   ]
  }
 ],
 "metadata": {
  "kernelspec": {
   "display_name": "Python 3",
   "language": "python",
   "name": "python3"
  },
  "language_info": {
   "codemirror_mode": {
    "name": "ipython",
    "version": 3
   },
   "file_extension": ".py",
   "mimetype": "text/x-python",
   "name": "python",
   "nbconvert_exporter": "python",
   "pygments_lexer": "ipython3",
   "version": "3.10.8"
  },
  "orig_nbformat": 4
 },
 "nbformat": 4,
 "nbformat_minor": 2
}
