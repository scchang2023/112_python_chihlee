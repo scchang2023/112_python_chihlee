{
 "cells": [
  {
   "cell_type": "code",
   "execution_count": 1,
   "metadata": {},
   "outputs": [],
   "source": [
    "import requests\n",
    "def getNames():\n",
    "    times = 3\n",
    "    cnames = []\n",
    "    for x in range(times):\n",
    "        url = 'http://www.richyli.com/name/index.asp'\n",
    "        r = requests.get(url)\n",
    "        r.encoding = 'big5'\n",
    "        \n",
    "        # 將網頁中的資料以分行的方式存成文字檔\n",
    "        result = r.text.splitlines()\n",
    "        \n",
    "        # 114是中文姓名開始的列，找到最後一個「、」，設定成為字串的切片位置。\n",
    "        char_index = result[114].rfind(\"、\")\n",
    "        temp = result[114][:char_index]\n",
    "        \n",
    "        # 將temp的100筆姓名新增到cnames中\n",
    "        cnames.append(temp)\n",
    "    return cnames\n",
    "\n",
    "\n",
    "names = getNames()  "
   ]
  }
 ],
 "metadata": {
  "kernelspec": {
   "display_name": "Python 3",
   "language": "python",
   "name": "python3"
  },
  "language_info": {
   "codemirror_mode": {
    "name": "ipython",
    "version": 3
   },
   "file_extension": ".py",
   "mimetype": "text/x-python",
   "name": "python",
   "nbconvert_exporter": "python",
   "pygments_lexer": "ipython3",
   "version": "3.10.8"
  },
  "orig_nbformat": 4
 },
 "nbformat": 4,
 "nbformat_minor": 2
}
