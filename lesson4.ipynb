{
 "cells": [
  {
   "cell_type": "code",
   "execution_count": 3,
   "metadata": {},
   "outputs": [
    {
     "name": "stdout",
     "output_type": "stream",
     "text": [
      "直角三角形的角度為：30度\n"
     ]
    }
   ],
   "source": [
    "import math\n",
    "n = float(input('請輸入斜邊：'))\n",
    "m = float(input('請輸入對邊：'))\n",
    "radion = math.asin(m / n)\n",
    "degree = round(math.degrees(radion))\n",
    "# 字串插補，f-string\n",
    "print(f'直角三角形的角度為：{degree}度')"
   ]
  },
  {
   "cell_type": "code",
   "execution_count": 6,
   "metadata": {},
   "outputs": [
    {
     "data": {
      "text/plain": [
       "True"
      ]
     },
     "execution_count": 6,
     "metadata": {},
     "output_type": "execute_result"
    }
   ],
   "source": [
    "3 == 3"
   ]
  },
  {
   "cell_type": "code",
   "execution_count": 4,
   "metadata": {},
   "outputs": [
    {
     "data": {
      "text/plain": [
       "False"
      ]
     },
     "execution_count": 4,
     "metadata": {},
     "output_type": "execute_result"
    }
   ],
   "source": [
    "3 != 3"
   ]
  },
  {
   "cell_type": "code",
   "execution_count": 5,
   "metadata": {},
   "outputs": [
    {
     "data": {
      "text/plain": [
       "False"
      ]
     },
     "execution_count": 5,
     "metadata": {},
     "output_type": "execute_result"
    }
   ],
   "source": [
    "3 > 5"
   ]
  },
  {
   "cell_type": "code",
   "execution_count": 16,
   "metadata": {},
   "outputs": [
    {
     "name": "stdout",
     "output_type": "stream",
     "text": [
      "學生總分是:84.0\n"
     ]
    }
   ],
   "source": [
    "#學生總階為300\n",
    "#有些學生可以加5%\n",
    "#如果加分超過300，就以300分為準\n",
    "scores = int(input('請蛉入學生分數(最高300分):'))\n",
    "is_add = input('學生是否符合加分條件？ y/n')\n",
    "if is_add == 'y':\n",
    "    scores = scores + scores * 0.05\n",
    "    if scores > 300:\n",
    "        scores = 300\n",
    "print(f'學生總分是:{scores}')"
   ]
  },
  {
   "cell_type": "code",
   "execution_count": 13,
   "metadata": {},
   "outputs": [
    {
     "name": "stdout",
     "output_type": "stream",
     "text": [
      "不及格\n"
     ]
    }
   ],
   "source": [
    "chinese = int(input(\"請輸入學生國文分數:\"))\n",
    "if chinese < 60:\n",
    "    print('不及格')\n",
    "else:\n",
    "    print('及格')\n",
    "    if chinese < 80:\n",
    "        print('優')\n",
    "    else:\n",
    "        print('很優')"
   ]
  },
  {
   "cell_type": "code",
   "execution_count": 18,
   "metadata": {},
   "outputs": [
    {
     "name": "stdout",
     "output_type": "stream",
     "text": [
      "丁\n"
     ]
    }
   ],
   "source": [
    "#下列為換算成績等級的程式碼，換算的規則如下：\n",
    "\n",
    "# 90(含)~100分為「優」\n",
    "# 80(含)~89分為「甲」\n",
    "# 70(含)~79分為「乙」\n",
    "# 60(含)~69分為「丙」\n",
    "# 0(含)~59分為「丁」\n",
    "score = int(input('請輸入分數'))\n",
    "if score >= 90:\n",
    "    print('優')\n",
    "elif score >= 80:\n",
    "    print('甲')\n",
    "elif score >= 70:\n",
    "    print('乙')\n",
    "elif score >= 60:\n",
    "    print('丙')\n",
    "else:\n",
    "    print('丁')"
   ]
  },
  {
   "cell_type": "code",
   "execution_count": 19,
   "metadata": {},
   "outputs": [
    {
     "name": "stdout",
     "output_type": "stream",
     "text": [
      "中文100分\n"
     ]
    }
   ],
   "source": [
    "chinese = 100\n",
    "if not chinese == 100:\n",
    "    print('中文沒有100分')\n",
    "else:\n",
    "    print('中文100分')"
   ]
  },
  {
   "cell_type": "code",
   "execution_count": 22,
   "metadata": {},
   "outputs": [
    {
     "name": "stdout",
     "output_type": "stream",
     "text": [
      "沒有獎金\n"
     ]
    }
   ],
   "source": [
    "chinese = 99\n",
    "english = 99\n",
    "if chinese == 100 and english == 100:\n",
    "    print('獎金1000')\n",
    "elif chinese == 100 or english == 100:\n",
    "    print('獎金500')\n",
    "else:\n",
    "    print('沒有獎金')"
   ]
  },
  {
   "cell_type": "code",
   "execution_count": 23,
   "metadata": {},
   "outputs": [
    {
     "name": "stdout",
     "output_type": "stream",
     "text": [
      "0\n",
      "1\n",
      "2\n",
      "3\n",
      "4\n",
      "5\n",
      "6\n",
      "7\n",
      "8\n",
      "9\n"
     ]
    }
   ],
   "source": [
    "for i in range(10):\n",
    "    print(i)"
   ]
  },
  {
   "cell_type": "code",
   "execution_count": 26,
   "metadata": {},
   "outputs": [
    {
     "name": "stdout",
     "output_type": "stream",
     "text": [
      "5\n",
      "15\n",
      "25\n",
      "35\n",
      "45\n",
      "55\n",
      "65\n",
      "75\n",
      "85\n",
      "95\n"
     ]
    }
   ],
   "source": [
    "for i in range(5, 100, 10):\n",
    "    print(i)"
   ]
  },
  {
   "cell_type": "code",
   "execution_count": 30,
   "metadata": {},
   "outputs": [
    {
     "name": "stdout",
     "output_type": "stream",
     "text": [
      "5050\n"
     ]
    }
   ],
   "source": [
    "# 計算1~100相加總值\n",
    "result = 0\n",
    "for i in range(101):\n",
    "    result += i\n",
    "print(result)"
   ]
  },
  {
   "cell_type": "code",
   "execution_count": 1,
   "metadata": {},
   "outputs": [
    {
     "data": {
      "text/plain": [
       "369729637649726772657187905628805440595668764281741102430259972423552570455277523421410650010128232727940978889548326540119429996769494359451621570193644014418071060667659301384999779999159200499899"
      ]
     },
     "execution_count": 1,
     "metadata": {},
     "output_type": "execute_result"
    }
   ],
   "source": [
    "99 ** 99"
   ]
  }
 ],
 "metadata": {
  "kernelspec": {
   "display_name": "Python 3",
   "language": "python",
   "name": "python3"
  },
  "language_info": {
   "codemirror_mode": {
    "name": "ipython",
    "version": 3
   },
   "file_extension": ".py",
   "mimetype": "text/x-python",
   "name": "python",
   "nbconvert_exporter": "python",
   "pygments_lexer": "ipython3",
   "version": "3.10.8"
  },
  "orig_nbformat": 4
 },
 "nbformat": 4,
 "nbformat_minor": 2
}
