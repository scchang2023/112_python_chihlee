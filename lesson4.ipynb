{
 "cells": [
  {
   "cell_type": "code",
   "execution_count": 3,
   "metadata": {},
   "outputs": [
    {
     "name": "stdout",
     "output_type": "stream",
     "text": [
      "直角三角形的角度為：30度\n"
     ]
    }
   ],
   "source": [
    "import math\n",
    "n = float(input('請輸入斜邊：'))\n",
    "m = float(input('請輸入對邊：'))\n",
    "radion = math.asin(m / n)\n",
    "degree = round(math.degrees(radion))\n",
    "# 字串插補，f-format\n",
    "print(f'直角三角形的角度為：{degree}度')"
   ]
  }
 ],
 "metadata": {
  "kernelspec": {
   "display_name": "Python 3",
   "language": "python",
   "name": "python3"
  },
  "language_info": {
   "codemirror_mode": {
    "name": "ipython",
    "version": 3
   },
   "file_extension": ".py",
   "mimetype": "text/x-python",
   "name": "python",
   "nbconvert_exporter": "python",
   "pygments_lexer": "ipython3",
   "version": "3.10.8"
  },
  "orig_nbformat": 4
 },
 "nbformat": 4,
 "nbformat_minor": 2
}
