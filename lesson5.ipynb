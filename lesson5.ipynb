{
 "cells": [
  {
   "cell_type": "code",
   "execution_count": null,
   "metadata": {},
   "outputs": [],
   "source": [
    "for i in range(10):\n",
    "    print(i)\n",
    "for i in range(1, 10, 2):\n",
    "    print(i)"
   ]
  },
  {
   "cell_type": "code",
   "execution_count": null,
   "metadata": {},
   "outputs": [],
   "source": [
    "# 巢狀迴圈\n",
    "# 九九乘法表\n",
    "for i in range(1, 10):\n",
    "    for j in range(1, 10):\n",
    "        print(f'{i}*{j}={i*j}', end=' ')\n",
    "    print('\\n')"
   ]
  },
  {
   "cell_type": "code",
   "execution_count": null,
   "metadata": {},
   "outputs": [],
   "source": [
    "# 小明想要存錢買機車，機車每輛30000，他將每月的錢輸入，當存款足夠買機車時，提示告知。\n",
    "deposit = 0\n",
    "months = 0\n",
    "while( deposit < 30000):\n",
    "    months +=1\n",
    "    value = int(input(f'請輸入第{months}的存款'))\n",
    "    deposit += value # 複合指定運算子\n",
    "    print(f'第{months}個月的存款是{value}, 總存款是{deposit}')\n",
    "print(f'已經存夠了, 存了{months}個月，總存了{deposit}元')"
   ]
  }
 ],
 "metadata": {
  "kernelspec": {
   "display_name": "Python 3",
   "language": "python",
   "name": "python3"
  },
  "language_info": {
   "codemirror_mode": {
    "name": "ipython",
    "version": 3
   },
   "file_extension": ".py",
   "mimetype": "text/x-python",
   "name": "python",
   "nbconvert_exporter": "python",
   "pygments_lexer": "ipython3",
   "version": "3.10.8"
  },
  "orig_nbformat": 4
 },
 "nbformat": 4,
 "nbformat_minor": 2
}
