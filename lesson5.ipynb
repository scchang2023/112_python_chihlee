{
 "cells": [
  {
   "cell_type": "code",
   "execution_count": null,
   "metadata": {},
   "outputs": [],
   "source": [
    "for i in range(10):\n",
    "    print(i)\n",
    "for i in range(1, 10, 2):\n",
    "    print(i)"
   ]
  },
  {
   "cell_type": "code",
   "execution_count": null,
   "metadata": {},
   "outputs": [],
   "source": [
    "# 巢狀迴圈\n",
    "# 九九乘法表\n",
    "for i in range(1, 10):\n",
    "    for j in range(1, 10):\n",
    "        print(f'{i}*{j}={i*j}', end=' ')\n",
    "    print('\\n')"
   ]
  },
  {
   "cell_type": "code",
   "execution_count": 20,
   "metadata": {},
   "outputs": [
    {
     "ename": "ValueError",
     "evalue": "invalid literal for int() with base 10: ''",
     "output_type": "error",
     "traceback": [
      "\u001b[0;31m---------------------------------------------------------------------------\u001b[0m",
      "\u001b[0;31mValueError\u001b[0m                                Traceback (most recent call last)",
      "Cell \u001b[0;32mIn[20], line 6\u001b[0m\n\u001b[1;32m      4\u001b[0m \u001b[39mwhile\u001b[39;00m( deposit \u001b[39m<\u001b[39m \u001b[39m30000\u001b[39m):\n\u001b[1;32m      5\u001b[0m     months \u001b[39m+\u001b[39m\u001b[39m=\u001b[39m\u001b[39m1\u001b[39m\n\u001b[0;32m----> 6\u001b[0m     value \u001b[39m=\u001b[39m \u001b[39mint\u001b[39;49m(\u001b[39minput\u001b[39;49m(\u001b[39mf\u001b[39;49m\u001b[39m'\u001b[39;49m\u001b[39m請輸入第\u001b[39;49m\u001b[39m{\u001b[39;49;00mmonths\u001b[39m}\u001b[39;49;00m\u001b[39m的存款\u001b[39;49m\u001b[39m'\u001b[39;49m))\n\u001b[1;32m      7\u001b[0m     deposit \u001b[39m+\u001b[39m\u001b[39m=\u001b[39m value \u001b[39m# 複合指定運算子\u001b[39;00m\n\u001b[1;32m      8\u001b[0m     \u001b[39mprint\u001b[39m(\u001b[39mf\u001b[39m\u001b[39m'\u001b[39m\u001b[39m第\u001b[39m\u001b[39m{\u001b[39;00mmonths\u001b[39m}\u001b[39;00m\u001b[39m個月的存款是\u001b[39m\u001b[39m{\u001b[39;00mvalue\u001b[39m}\u001b[39;00m\u001b[39m, 總存款是\u001b[39m\u001b[39m{\u001b[39;00mdeposit\u001b[39m}\u001b[39;00m\u001b[39m'\u001b[39m)\n",
      "\u001b[0;31mValueError\u001b[0m: invalid literal for int() with base 10: ''"
     ]
    }
   ],
   "source": [
    "# 小明想要存錢買機車，機車每輛30000，他將每月的錢輸入，當存款足夠買機車時，提示告知。\n",
    "deposit = 0\n",
    "months = 0\n",
    "while( deposit < 30000):\n",
    "    months +=1\n",
    "    value = int(input(f'請輸入第{months}的存款'))\n",
    "    deposit += value # 複合指定運算子\n",
    "    print(f'第{months}個月的存款是{value}, 總存款是{deposit}')\n",
    "print(f'已經存夠了, 存了{months}個月，總存了{deposit}元')"
   ]
  }
 ],
 "metadata": {
  "kernelspec": {
   "display_name": "Python 3",
   "language": "python",
   "name": "python3"
  },
  "language_info": {
   "codemirror_mode": {
    "name": "ipython",
    "version": 3
   },
   "file_extension": ".py",
   "mimetype": "text/x-python",
   "name": "python",
   "nbconvert_exporter": "python",
   "pygments_lexer": "ipython3",
   "version": "3.10.8"
  },
  "orig_nbformat": 4
 },
 "nbformat": 4,
 "nbformat_minor": 2
}
