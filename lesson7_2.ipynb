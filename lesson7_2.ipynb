{
 "cells": [
  {
   "cell_type": "code",
   "execution_count": 2,
   "metadata": {},
   "outputs": [
    {
     "data": {
      "text/plain": [
       "58"
      ]
     },
     "execution_count": 2,
     "metadata": {},
     "output_type": "execute_result"
    }
   ],
   "source": [
    "import random\n",
    "random.randint(50, 100)"
   ]
  },
  {
   "cell_type": "code",
   "execution_count": 8,
   "metadata": {},
   "outputs": [
    {
     "data": {
      "text/plain": [
       "[99, 88, 51, 66, 58]"
      ]
     },
     "execution_count": 8,
     "metadata": {},
     "output_type": "execute_result"
    }
   ],
   "source": [
    "stud1 = list()\n",
    "for _ in range(5):\n",
    "    stud1.append(random.randint(50, 100))\n",
    "stud1"
   ]
  },
  {
   "cell_type": "code",
   "execution_count": 12,
   "metadata": {},
   "outputs": [
    {
     "data": {
      "text/plain": [
       "[[53, 51, 71, 79, 89],\n",
       " [60, 82, 65, 78, 94],\n",
       " [66, 62, 99, 51, 84],\n",
       " [95, 68, 51, 50, 70],\n",
       " [96, 83, 68, 76, 61],\n",
       " [98, 86, 70, 50, 68],\n",
       " [95, 94, 67, 76, 94],\n",
       " [91, 57, 57, 70, 58],\n",
       " [97, 51, 83, 65, 53],\n",
       " [77, 63, 52, 62, 82],\n",
       " [74, 90, 72, 93, 69],\n",
       " [54, 89, 92, 70, 67],\n",
       " [55, 53, 90, 58, 100],\n",
       " [52, 81, 98, 90, 63],\n",
       " [61, 57, 73, 50, 99],\n",
       " [60, 83, 100, 79, 59],\n",
       " [67, 58, 58, 51, 62],\n",
       " [50, 83, 54, 100, 91],\n",
       " [58, 78, 65, 91, 61],\n",
       " [85, 91, 82, 61, 51],\n",
       " [80, 94, 67, 76, 77],\n",
       " [94, 75, 67, 92, 83],\n",
       " [93, 88, 68, 64, 92],\n",
       " [98, 60, 58, 77, 94],\n",
       " [71, 50, 99, 53, 90],\n",
       " [57, 71, 73, 50, 61],\n",
       " [57, 65, 77, 87, 57],\n",
       " [83, 100, 55, 55, 74],\n",
       " [68, 72, 66, 76, 79],\n",
       " [59, 83, 61, 64, 93],\n",
       " [76, 53, 61, 99, 66],\n",
       " [91, 56, 71, 84, 95],\n",
       " [68, 74, 73, 53, 98],\n",
       " [69, 50, 58, 99, 80],\n",
       " [64, 52, 82, 94, 85],\n",
       " [85, 83, 97, 64, 83],\n",
       " [52, 96, 68, 67, 99],\n",
       " [77, 80, 89, 96, 88],\n",
       " [61, 96, 58, 81, 57],\n",
       " [84, 59, 75, 69, 90],\n",
       " [59, 77, 84, 89, 52],\n",
       " [82, 51, 59, 72, 55],\n",
       " [77, 52, 72, 97, 71],\n",
       " [60, 92, 54, 72, 74],\n",
       " [77, 81, 61, 50, 70],\n",
       " [55, 80, 67, 71, 75],\n",
       " [66, 75, 58, 53, 95],\n",
       " [97, 97, 77, 63, 68],\n",
       " [95, 71, 98, 82, 56],\n",
       " [80, 55, 98, 78, 98]]"
      ]
     },
     "execution_count": 12,
     "metadata": {},
     "output_type": "execute_result"
    }
   ],
   "source": [
    "students = []\n",
    "for _ in range(50):\n",
    "    stud = list()\n",
    "    for _ in range(5):\n",
    "        stud.append(random.randint(50, 100))\n",
    "    students.append(stud)\n",
    "students"
   ]
  },
  {
   "cell_type": "code",
   "execution_count": 3,
   "metadata": {},
   "outputs": [],
   "source": [
    "text = '''python與中文\n",
    "1. 我們來試試看中文儲存能力。\n",
    "2. 許這個字會有編碼衝突風險。\n",
    "3. 犇這個字必須是utf8編碼才有。'''\n",
    "file = open('hello.txt', mode = 'w')\n",
    "type(file) # file物件，一個實體\n",
    "print(text, file=file)\n",
    "#記得要關檔\n",
    "file.close()"
   ]
  }
 ],
 "metadata": {
  "kernelspec": {
   "display_name": "Python 3",
   "language": "python",
   "name": "python3"
  },
  "language_info": {
   "codemirror_mode": {
    "name": "ipython",
    "version": 3
   },
   "file_extension": ".py",
   "mimetype": "text/x-python",
   "name": "python",
   "nbconvert_exporter": "python",
   "pygments_lexer": "ipython3",
   "version": "3.10.8"
  },
  "orig_nbformat": 4
 },
 "nbformat": 4,
 "nbformat_minor": 2
}
