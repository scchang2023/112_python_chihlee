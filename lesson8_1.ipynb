{
 "cells": [
  {
   "cell_type": "code",
   "execution_count": 1,
   "metadata": {},
   "outputs": [
    {
     "data": {
      "text/plain": [
       "[[65, 76, 93, 50, 66],\n",
       " [88, 87, 97, 97, 53],\n",
       " [57, 88, 68, 95, 62],\n",
       " [100, 81, 80, 96, 72],\n",
       " [54, 82, 63, 64, 64],\n",
       " [57, 82, 84, 51, 69],\n",
       " [52, 96, 57, 57, 52],\n",
       " [80, 96, 65, 64, 59],\n",
       " [82, 78, 97, 82, 56],\n",
       " [60, 72, 77, 64, 61],\n",
       " [67, 100, 85, 98, 82],\n",
       " [97, 63, 98, 75, 72],\n",
       " [57, 86, 57, 68, 71],\n",
       " [59, 98, 50, 61, 64],\n",
       " [92, 88, 85, 55, 61],\n",
       " [67, 55, 88, 75, 50],\n",
       " [77, 98, 91, 87, 86],\n",
       " [58, 68, 83, 52, 65],\n",
       " [57, 63, 88, 76, 50],\n",
       " [68, 98, 63, 79, 73],\n",
       " [80, 84, 79, 98, 97],\n",
       " [78, 66, 83, 93, 73],\n",
       " [80, 56, 52, 96, 92],\n",
       " [82, 61, 98, 97, 56],\n",
       " [82, 64, 81, 54, 100],\n",
       " [89, 75, 82, 53, 52],\n",
       " [57, 83, 90, 76, 95],\n",
       " [53, 82, 83, 80, 73],\n",
       " [76, 51, 72, 59, 64],\n",
       " [99, 74, 55, 89, 84],\n",
       " [74, 70, 96, 69, 60],\n",
       " [94, 79, 80, 86, 55],\n",
       " [66, 90, 78, 97, 90],\n",
       " [55, 98, 63, 90, 83],\n",
       " [85, 80, 56, 100, 88],\n",
       " [79, 86, 80, 99, 81],\n",
       " [55, 72, 58, 66, 93],\n",
       " [98, 87, 85, 77, 89],\n",
       " [82, 63, 53, 75, 97],\n",
       " [81, 73, 96, 60, 99],\n",
       " [62, 60, 73, 74, 82],\n",
       " [67, 87, 50, 86, 61],\n",
       " [66, 58, 90, 58, 81],\n",
       " [68, 68, 87, 73, 91],\n",
       " [72, 75, 85, 61, 62],\n",
       " [84, 54, 82, 99, 81],\n",
       " [84, 68, 59, 56, 96],\n",
       " [57, 63, 87, 68, 60],\n",
       " [59, 52, 72, 54, 62],\n",
       " [99, 51, 55, 58, 84]]"
      ]
     },
     "execution_count": 1,
     "metadata": {},
     "output_type": "execute_result"
    }
   ],
   "source": [
    "import random\n",
    "students = []\n",
    "for _ in range(50):\n",
    "    stud = list()\n",
    "    for _ in range(5):\n",
    "        stud.append(random.randint(50, 100))\n",
    "    students.append(stud)\n",
    "students"
   ]
  },
  {
   "cell_type": "code",
   "execution_count": 2,
   "metadata": {},
   "outputs": [],
   "source": [
    "import csv\n",
    "csv_write_file = open('students.csv', newline='', mode='w')\n",
    "csv_writer = csv.writer(csv_write_file)\n",
    "csv_writer.writerow(['國文', '英文', '數學', '歷史', '地理'])\n",
    "csv_writer.writerows(students)\n",
    "csv_write_file.close()"
   ]
  }
 ],
 "metadata": {
  "kernelspec": {
   "display_name": "Python 3",
   "language": "python",
   "name": "python3"
  },
  "language_info": {
   "codemirror_mode": {
    "name": "ipython",
    "version": 3
   },
   "file_extension": ".py",
   "mimetype": "text/x-python",
   "name": "python",
   "nbconvert_exporter": "python",
   "pygments_lexer": "ipython3",
   "version": "3.10.8"
  },
  "orig_nbformat": 4
 },
 "nbformat": 4,
 "nbformat_minor": 2
}
