{
 "cells": [
  {
   "cell_type": "code",
   "execution_count": 4,
   "metadata": {},
   "outputs": [
    {
     "data": {
      "text/plain": [
       "[[65, 58, 69, 60, 83],\n",
       " [81, 67, 74, 71, 52],\n",
       " [98, 56, 72, 73, 60],\n",
       " [84, 50, 60, 82, 63],\n",
       " [87, 59, 99, 57, 64],\n",
       " [64, 95, 96, 69, 60],\n",
       " [81, 76, 90, 75, 71],\n",
       " [93, 71, 71, 98, 71],\n",
       " [77, 95, 56, 57, 91],\n",
       " [91, 78, 84, 85, 91],\n",
       " [96, 78, 82, 55, 82],\n",
       " [88, 85, 61, 73, 53],\n",
       " [97, 82, 74, 57, 63],\n",
       " [59, 97, 91, 71, 65],\n",
       " [59, 69, 93, 93, 53],\n",
       " [79, 52, 64, 63, 89],\n",
       " [75, 72, 73, 57, 69],\n",
       " [52, 94, 59, 79, 52],\n",
       " [69, 61, 91, 95, 94],\n",
       " [52, 51, 65, 91, 100],\n",
       " [83, 78, 82, 91, 78],\n",
       " [95, 98, 91, 65, 94],\n",
       " [52, 72, 94, 57, 76],\n",
       " [61, 76, 73, 81, 96],\n",
       " [80, 66, 95, 94, 69],\n",
       " [96, 89, 86, 82, 72],\n",
       " [58, 86, 50, 91, 98],\n",
       " [61, 67, 92, 97, 98],\n",
       " [98, 80, 73, 60, 85],\n",
       " [78, 98, 64, 68, 68],\n",
       " [54, 95, 88, 67, 93],\n",
       " [70, 79, 73, 83, 98],\n",
       " [87, 94, 91, 94, 73],\n",
       " [85, 72, 90, 57, 53],\n",
       " [59, 58, 88, 87, 99],\n",
       " [94, 62, 83, 80, 63],\n",
       " [90, 77, 58, 85, 94],\n",
       " [89, 100, 80, 84, 70],\n",
       " [56, 84, 70, 65, 94],\n",
       " [78, 82, 56, 71, 57],\n",
       " [86, 86, 64, 84, 67],\n",
       " [61, 87, 96, 87, 92],\n",
       " [95, 96, 76, 62, 61],\n",
       " [81, 98, 77, 85, 82],\n",
       " [90, 100, 95, 73, 79],\n",
       " [100, 95, 64, 76, 88],\n",
       " [93, 89, 96, 56, 86],\n",
       " [66, 87, 86, 52, 98],\n",
       " [71, 83, 67, 66, 99],\n",
       " [97, 86, 66, 98, 97]]"
      ]
     },
     "execution_count": 4,
     "metadata": {},
     "output_type": "execute_result"
    }
   ],
   "source": [
    "import random\n",
    "students = []\n",
    "for _ in range(50):\n",
    "    stud = list()\n",
    "    for _ in range(5):\n",
    "        stud.append(random.randint(50, 100))\n",
    "    students.append(stud)\n",
    "students"
   ]
  },
  {
   "cell_type": "code",
   "execution_count": 3,
   "metadata": {},
   "outputs": [],
   "source": [
    "import csv\n",
    "csv_write_file = open('students.csv', newline='', mode='w')\n",
    "csv_writer = csv.writer(csv_write_file)\n",
    "csv_writer.writerow(['國文', '英文', '數學', '歷史', '地理'])\n",
    "csv_writer.writerows(students)\n",
    "csv_write_file.close()"
   ]
  }
 ],
 "metadata": {
  "kernelspec": {
   "display_name": "Python 3",
   "language": "python",
   "name": "python3"
  },
  "language_info": {
   "codemirror_mode": {
    "name": "ipython",
    "version": 3
   },
   "file_extension": ".py",
   "mimetype": "text/x-python",
   "name": "python",
   "nbconvert_exporter": "python",
   "pygments_lexer": "ipython3",
   "version": "3.10.8"
  },
  "orig_nbformat": 4
 },
 "nbformat": 4,
 "nbformat_minor": 2
}
