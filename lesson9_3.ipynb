{
 "cells": [
  {
   "cell_type": "code",
   "execution_count": 12,
   "metadata": {},
   "outputs": [
    {
     "name": "stdout",
     "output_type": "stream",
     "text": [
      "{'tw': 'Taiwan', 'jp': 'Japan', 'hk': 'Hong Kong'} <class 'dict'>\n",
      "Taiwan\n",
      "tw\n",
      "jp\n",
      "hk\n",
      "['tw', 'jp', 'hk']\n",
      "tw Taiwan\n",
      "jp Japan\n",
      "hk Hong Kong\n"
     ]
    }
   ],
   "source": [
    "codes = {'tw':'Taiwan', 'jp':'Japan', 'hk':'Hong Kong'}\n",
    "print(codes, type(codes))\n",
    "print(codes['tw'])\n",
    "# list-like 像 list 的資料\n",
    "# 轉成list, 或是用 for in\n",
    "codes.keys()\n",
    "for key in codes.keys():\n",
    "    print(key)\n",
    "\n",
    "mykeys = list(codes.keys())\n",
    "print(mykeys)\n",
    "\n",
    "codes.items()\n",
    "# tuple 有拆解法\n",
    "# for (k,v) in codes.items():\n",
    "for k,v in codes.items():\n",
    "    print(k, v)"
   ]
  }
 ],
 "metadata": {
  "kernelspec": {
   "display_name": "Python 3",
   "language": "python",
   "name": "python3"
  },
  "language_info": {
   "codemirror_mode": {
    "name": "ipython",
    "version": 3
   },
   "file_extension": ".py",
   "mimetype": "text/x-python",
   "name": "python",
   "nbconvert_exporter": "python",
   "pygments_lexer": "ipython3",
   "version": "3.10.8"
  },
  "orig_nbformat": 4
 },
 "nbformat": 4,
 "nbformat_minor": 2
}
